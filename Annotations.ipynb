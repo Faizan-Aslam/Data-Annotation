{
 "cells": [
  {
   "cell_type": "code",
   "execution_count": 3,
   "id": "f5074b51",
   "metadata": {},
   "outputs": [],
   "source": [
    "import fiftyone as fo\n",
    "import fiftyone.zoo as foz\n",
    "\n",
    "dataset = fo.load_dataset(\"WP4c\")"
   ]
  },
  {
   "cell_type": "code",
   "execution_count": 3,
   "id": "404c0da9",
   "metadata": {},
   "outputs": [],
   "source": [
    "dataset_path = r'C:/Users/faiza/Documents/Annot/WP4/4c/colour'\n",
    "labels_path = r'C:/Users/faiza/Documents/Annot/WP4/annotations_4c.json'\n",
    "name = \"WP4c\""
   ]
  },
  {
   "cell_type": "code",
   "execution_count": 4,
   "id": "5c76e2a4",
   "metadata": {},
   "outputs": [
    {
     "name": "stdout",
     "output_type": "stream",
     "text": [
      " 100% |███████████████| 1040/1040 [1.4s elapsed, 0s remaining, 750.4 samples/s]         \n"
     ]
    }
   ],
   "source": [
    "\n",
    "# Import the dataset\n",
    "dataset = fo.Dataset.from_dir(\n",
    "    dataset_type=fo.types.COCODetectionDataset,\n",
    "    data_path=dataset_path,\n",
    "    labels_path=labels_path,\n",
    "    name=name\n",
    ")"
   ]
  },
  {
   "cell_type": "code",
   "execution_count": 2,
   "id": "855c7b9a",
   "metadata": {},
   "outputs": [
    {
     "data": {
      "text/plain": [
       "['my_run',\n",
       " 'my_run_2',\n",
       " 'my_run_final',\n",
       " 'my_run_final_',\n",
       " 'my_run_final_2',\n",
       " 'my_run_final_3',\n",
       " 'my_run_final_4',\n",
       " 'my_run_final_5',\n",
       " 'run',\n",
       " 'run_2',\n",
       " 'segs_run']"
      ]
     },
     "execution_count": 2,
     "metadata": {},
     "output_type": "execute_result"
    }
   ],
   "source": [
    "dataset.list_annotation_runs()\n"
   ]
  },
  {
   "cell_type": "code",
   "execution_count": 34,
   "id": "ec094be5",
   "metadata": {},
   "outputs": [],
   "source": [
    "info = dataset.get_annotation_info('run_2')\n"
   ]
  },
  {
   "cell_type": "code",
   "execution_count": 35,
   "id": "2414b13f",
   "metadata": {},
   "outputs": [
    {
     "data": {
      "text/plain": [
       "{\n",
       "    \"key\": \"run_2\",\n",
       "    \"version\": \"0.16.5\",\n",
       "    \"timestamp\": \"2022-07-08T01:07:58.133000\",\n",
       "    \"config\": {\n",
       "        \"method\": \"cvat\",\n",
       "        \"cls\": \"fiftyone.utils.cvat.CVATBackendConfig\",\n",
       "        \"name\": \"cvat\",\n",
       "        \"label_schema\": {\n",
       "            \"ground_truth\": {\n",
       "                \"type\": \"detections\",\n",
       "                \"classes\": [\n",
       "                    \"Person\"\n",
       "                ],\n",
       "                \"attributes\": {\n",
       "                    \"iscrowd\": {\n",
       "                        \"type\": \"text\"\n",
       "                    }\n",
       "                },\n",
       "                \"existing_field\": true,\n",
       "                \"allow_additions\": true,\n",
       "                \"allow_deletions\": true,\n",
       "                \"allow_label_edits\": true,\n",
       "                \"allow_spatial_edits\": true\n",
       "            }\n",
       "        },\n",
       "        \"media_field\": \"filepath\",\n",
       "        \"url\": \"http://localhost:8080\",\n",
       "        \"task_size\": null,\n",
       "        \"segment_size\": null,\n",
       "        \"image_quality\": 75,\n",
       "        \"use_cache\": true,\n",
       "        \"use_zip_chunks\": true,\n",
       "        \"chunk_size\": null,\n",
       "        \"task_assignee\": null,\n",
       "        \"job_assignees\": null,\n",
       "        \"job_reviewers\": null,\n",
       "        \"project_name\": null,\n",
       "        \"project_id\": null,\n",
       "        \"occluded_attr\": null,\n",
       "        \"group_id_attr\": null,\n",
       "        \"issue_tracker\": null\n",
       "    }\n",
       "}"
      ]
     },
     "execution_count": 35,
     "metadata": {},
     "output_type": "execute_result"
    }
   ],
   "source": [
    "info"
   ]
  },
  {
   "cell_type": "code",
   "execution_count": 2,
   "id": "2884f917",
   "metadata": {
    "scrolled": true
   },
   "outputs": [
    {
     "name": "stdout",
     "output_type": "stream",
     "text": [
      "\r\n",
      "Could not connect session, trying again in 10 seconds\r\n",
      "\n"
     ]
    },
    {
     "ename": "RuntimeError",
     "evalue": "Client is not connected",
     "output_type": "error",
     "traceback": [
      "\u001b[1;31m---------------------------------------------------------------------------\u001b[0m",
      "\u001b[1;31mRuntimeError\u001b[0m                              Traceback (most recent call last)",
      "Input \u001b[1;32mIn [2]\u001b[0m, in \u001b[0;36m<cell line: 1>\u001b[1;34m()\u001b[0m\n\u001b[1;32m----> 1\u001b[0m session \u001b[38;5;241m=\u001b[39m \u001b[43mfo\u001b[49m\u001b[38;5;241;43m.\u001b[39;49m\u001b[43mlaunch_app\u001b[49m\u001b[43m(\u001b[49m\u001b[43m)\u001b[49m\n",
      "File \u001b[1;32m~\\Documents\\Annot\\venv\\lib\\site-packages\\fiftyone\\core\\session\\session.py:157\u001b[0m, in \u001b[0;36mlaunch_app\u001b[1;34m(dataset, view, port, address, remote, desktop, height, auto, config)\u001b[0m\n\u001b[0;32m    145\u001b[0m \u001b[38;5;66;03m#\u001b[39;00m\n\u001b[0;32m    146\u001b[0m \u001b[38;5;66;03m# Note, we always `close_app()` here rather than just calling\u001b[39;00m\n\u001b[0;32m    147\u001b[0m \u001b[38;5;66;03m# `session.open()` if a session already exists, because the app may have\u001b[39;00m\n\u001b[1;32m   (...)\u001b[0m\n\u001b[0;32m    153\u001b[0m \u001b[38;5;66;03m# @todo this can probably be improved\u001b[39;00m\n\u001b[0;32m    154\u001b[0m \u001b[38;5;66;03m#\u001b[39;00m\n\u001b[0;32m    155\u001b[0m close_app()\n\u001b[1;32m--> 157\u001b[0m _session \u001b[38;5;241m=\u001b[39m \u001b[43mSession\u001b[49m\u001b[43m(\u001b[49m\n\u001b[0;32m    158\u001b[0m \u001b[43m    \u001b[49m\u001b[43mdataset\u001b[49m\u001b[38;5;241;43m=\u001b[39;49m\u001b[43mdataset\u001b[49m\u001b[43m,\u001b[49m\n\u001b[0;32m    159\u001b[0m \u001b[43m    \u001b[49m\u001b[43mview\u001b[49m\u001b[38;5;241;43m=\u001b[39;49m\u001b[43mview\u001b[49m\u001b[43m,\u001b[49m\n\u001b[0;32m    160\u001b[0m \u001b[43m    \u001b[49m\u001b[43mport\u001b[49m\u001b[38;5;241;43m=\u001b[39;49m\u001b[43mport\u001b[49m\u001b[43m,\u001b[49m\n\u001b[0;32m    161\u001b[0m \u001b[43m    \u001b[49m\u001b[43maddress\u001b[49m\u001b[38;5;241;43m=\u001b[39;49m\u001b[43maddress\u001b[49m\u001b[43m,\u001b[49m\n\u001b[0;32m    162\u001b[0m \u001b[43m    \u001b[49m\u001b[43mremote\u001b[49m\u001b[38;5;241;43m=\u001b[39;49m\u001b[43mremote\u001b[49m\u001b[43m,\u001b[49m\n\u001b[0;32m    163\u001b[0m \u001b[43m    \u001b[49m\u001b[43mdesktop\u001b[49m\u001b[38;5;241;43m=\u001b[39;49m\u001b[43mdesktop\u001b[49m\u001b[43m,\u001b[49m\n\u001b[0;32m    164\u001b[0m \u001b[43m    \u001b[49m\u001b[43mheight\u001b[49m\u001b[38;5;241;43m=\u001b[39;49m\u001b[43mheight\u001b[49m\u001b[43m,\u001b[49m\n\u001b[0;32m    165\u001b[0m \u001b[43m    \u001b[49m\u001b[43mauto\u001b[49m\u001b[38;5;241;43m=\u001b[39;49m\u001b[43mauto\u001b[49m\u001b[43m,\u001b[49m\n\u001b[0;32m    166\u001b[0m \u001b[43m    \u001b[49m\u001b[43mconfig\u001b[49m\u001b[38;5;241;43m=\u001b[39;49m\u001b[43mconfig\u001b[49m\u001b[43m,\u001b[49m\n\u001b[0;32m    167\u001b[0m \u001b[43m\u001b[49m\u001b[43m)\u001b[49m\n\u001b[0;32m    169\u001b[0m \u001b[38;5;28;01mif\u001b[39;00m _session\u001b[38;5;241m.\u001b[39mremote:\n\u001b[0;32m    170\u001b[0m     logger\u001b[38;5;241m.\u001b[39minfo(_REMOTE_INSTRUCTIONS\u001b[38;5;241m.\u001b[39mstrip()\u001b[38;5;241m.\u001b[39mformat(_session\u001b[38;5;241m.\u001b[39mserver_port))\n",
      "File \u001b[1;32m~\\Documents\\Annot\\venv\\lib\\site-packages\\fiftyone\\core\\session\\session.py:354\u001b[0m, in \u001b[0;36mSession.__init__\u001b[1;34m(self, dataset, view, plots, port, address, remote, desktop, height, auto, config)\u001b[0m\n\u001b[0;32m    351\u001b[0m _register_session(\u001b[38;5;28mself\u001b[39m)\n\u001b[0;32m    353\u001b[0m \u001b[38;5;28;01mif\u001b[39;00m \u001b[38;5;28mself\u001b[39m\u001b[38;5;241m.\u001b[39mauto \u001b[38;5;129;01mand\u001b[39;00m focx\u001b[38;5;241m.\u001b[39mis_notebook_context():\n\u001b[1;32m--> 354\u001b[0m     \u001b[38;5;28;43mself\u001b[39;49m\u001b[38;5;241;43m.\u001b[39;49m\u001b[43mshow\u001b[49m\u001b[43m(\u001b[49m\u001b[43mheight\u001b[49m\u001b[38;5;241;43m=\u001b[39;49m\u001b[43mconfig\u001b[49m\u001b[38;5;241;43m.\u001b[39;49m\u001b[43mnotebook_height\u001b[49m\u001b[43m)\u001b[49m\n\u001b[0;32m    356\u001b[0m \u001b[38;5;28;01mif\u001b[39;00m \u001b[38;5;28mself\u001b[39m\u001b[38;5;241m.\u001b[39mremote:\n\u001b[0;32m    357\u001b[0m     \u001b[38;5;28;01mif\u001b[39;00m focx\u001b[38;5;241m.\u001b[39mis_notebook_context():\n",
      "File \u001b[1;32m~\\Documents\\Annot\\venv\\lib\\site-packages\\fiftyone\\core\\session\\session.py:211\u001b[0m, in \u001b[0;36mupdate_state.<locals>.decorator.<locals>.wrapper\u001b[1;34m(session, *args, **kwargs)\u001b[0m\n\u001b[0;32m    209\u001b[0m \u001b[38;5;28;01mif\u001b[39;00m auto_show \u001b[38;5;129;01mand\u001b[39;00m session\u001b[38;5;241m.\u001b[39mauto \u001b[38;5;129;01mand\u001b[39;00m focx\u001b[38;5;241m.\u001b[39mis_notebook_context():\n\u001b[0;32m    210\u001b[0m     session\u001b[38;5;241m.\u001b[39mfreeze()\n\u001b[1;32m--> 211\u001b[0m result \u001b[38;5;241m=\u001b[39m \u001b[43mfunc\u001b[49m\u001b[43m(\u001b[49m\u001b[43msession\u001b[49m\u001b[43m,\u001b[49m\u001b[43m \u001b[49m\u001b[38;5;241;43m*\u001b[39;49m\u001b[43margs\u001b[49m\u001b[43m,\u001b[49m\u001b[43m \u001b[49m\u001b[38;5;241;43m*\u001b[39;49m\u001b[38;5;241;43m*\u001b[39;49m\u001b[43mkwargs\u001b[49m\u001b[43m)\u001b[49m\n\u001b[0;32m    212\u001b[0m session\u001b[38;5;241m.\u001b[39m_client\u001b[38;5;241m.\u001b[39msend_event(StateUpdate(state\u001b[38;5;241m=\u001b[39msession\u001b[38;5;241m.\u001b[39m_state))\n\u001b[0;32m    213\u001b[0m \u001b[38;5;28;01mif\u001b[39;00m auto_show \u001b[38;5;129;01mand\u001b[39;00m session\u001b[38;5;241m.\u001b[39mauto \u001b[38;5;129;01mand\u001b[39;00m focx\u001b[38;5;241m.\u001b[39mis_notebook_context():\n",
      "File \u001b[1;32m~\\Documents\\Annot\\venv\\lib\\site-packages\\fiftyone\\core\\session\\session.py:875\u001b[0m, in \u001b[0;36mSession.show\u001b[1;34m(self, height)\u001b[0m\n\u001b[0;32m    872\u001b[0m \u001b[38;5;28;01mif\u001b[39;00m \u001b[38;5;129;01mnot\u001b[39;00m focx\u001b[38;5;241m.\u001b[39mis_notebook_context() \u001b[38;5;129;01mor\u001b[39;00m \u001b[38;5;28mself\u001b[39m\u001b[38;5;241m.\u001b[39mdesktop:\n\u001b[0;32m    873\u001b[0m     \u001b[38;5;28;01mreturn\u001b[39;00m\n\u001b[1;32m--> 875\u001b[0m \u001b[38;5;28;43mself\u001b[39;49m\u001b[38;5;241;43m.\u001b[39;49m\u001b[43mfreeze\u001b[49m\u001b[43m(\u001b[49m\u001b[43m)\u001b[49m\n\u001b[0;32m    876\u001b[0m \u001b[38;5;28;01mif\u001b[39;00m \u001b[38;5;28mself\u001b[39m\u001b[38;5;241m.\u001b[39mdataset \u001b[38;5;129;01mis\u001b[39;00m \u001b[38;5;129;01mnot\u001b[39;00m \u001b[38;5;28;01mNone\u001b[39;00m:\n\u001b[0;32m    877\u001b[0m     \u001b[38;5;28mself\u001b[39m\u001b[38;5;241m.\u001b[39mdataset\u001b[38;5;241m.\u001b[39m_reload()\n",
      "File \u001b[1;32m~\\Documents\\Annot\\venv\\lib\\site-packages\\fiftyone\\core\\session\\session.py:975\u001b[0m, in \u001b[0;36mSession.freeze\u001b[1;34m(self)\u001b[0m\n\u001b[0;32m    972\u001b[0m     logger\u001b[38;5;241m.\u001b[39mwarning(\u001b[38;5;124m\"\u001b[39m\u001b[38;5;124mOnly notebook sessions can be frozen\u001b[39m\u001b[38;5;124m\"\u001b[39m)\n\u001b[0;32m    973\u001b[0m     \u001b[38;5;28;01mreturn\u001b[39;00m\n\u001b[1;32m--> 975\u001b[0m \u001b[38;5;28;43mself\u001b[39;49m\u001b[38;5;241;43m.\u001b[39;49m\u001b[43m_client\u001b[49m\u001b[38;5;241;43m.\u001b[39;49m\u001b[43msend_event\u001b[49m\u001b[43m(\u001b[49m\u001b[43mDeactivateNotebookCell\u001b[49m\u001b[43m(\u001b[49m\u001b[43m)\u001b[49m\u001b[43m)\u001b[49m\n\u001b[0;32m    976\u001b[0m \u001b[38;5;28mself\u001b[39m\u001b[38;5;241m.\u001b[39mplots\u001b[38;5;241m.\u001b[39mfreeze()\n",
      "File \u001b[1;32m~\\Documents\\Annot\\venv\\lib\\site-packages\\fiftyone\\core\\session\\client.py:122\u001b[0m, in \u001b[0;36mClient.send_event\u001b[1;34m(self, event)\u001b[0m\n\u001b[0;32m    116\u001b[0m \u001b[38;5;124;03m\"\"\"Sends an event to the server\u001b[39;00m\n\u001b[0;32m    117\u001b[0m \n\u001b[0;32m    118\u001b[0m \u001b[38;5;124;03mArgs:\u001b[39;00m\n\u001b[0;32m    119\u001b[0m \u001b[38;5;124;03m    event: the event\u001b[39;00m\n\u001b[0;32m    120\u001b[0m \u001b[38;5;124;03m\"\"\"\u001b[39;00m\n\u001b[0;32m    121\u001b[0m \u001b[38;5;28;01mif\u001b[39;00m \u001b[38;5;129;01mnot\u001b[39;00m \u001b[38;5;28mself\u001b[39m\u001b[38;5;241m.\u001b[39m_connected:\n\u001b[1;32m--> 122\u001b[0m     \u001b[38;5;28;01mraise\u001b[39;00m \u001b[38;5;167;01mRuntimeError\u001b[39;00m(\u001b[38;5;124m\"\u001b[39m\u001b[38;5;124mClient is not connected\u001b[39m\u001b[38;5;124m\"\u001b[39m)\n\u001b[0;32m    124\u001b[0m \u001b[38;5;28mself\u001b[39m\u001b[38;5;241m.\u001b[39m_post_event(event)\n\u001b[0;32m    125\u001b[0m \u001b[38;5;28mself\u001b[39m\u001b[38;5;241m.\u001b[39m_dispatch_event(event)\n",
      "\u001b[1;31mRuntimeError\u001b[0m: Client is not connected"
     ]
    }
   ],
   "source": [
    "session = fo.launch_app()"
   ]
  },
  {
   "cell_type": "code",
   "execution_count": 34,
   "id": "522ac3ab",
   "metadata": {},
   "outputs": [],
   "source": [
    "stage = fo.Select(session.selected)\n",
    "view = dataset.add_stage(stage)"
   ]
  },
  {
   "cell_type": "code",
   "execution_count": 35,
   "id": "d08f0b5a",
   "metadata": {},
   "outputs": [
    {
     "data": {
      "text/plain": [
       "Dataset:     2022.07.05.11.42.43\n",
       "Media type:  image\n",
       "Num samples: 11\n",
       "Sample fields:\n",
       "    id:           fiftyone.core.fields.ObjectIdField\n",
       "    filepath:     fiftyone.core.fields.StringField\n",
       "    tags:         fiftyone.core.fields.ListField(fiftyone.core.fields.StringField)\n",
       "    metadata:     fiftyone.core.fields.EmbeddedDocumentField(fiftyone.core.metadata.ImageMetadata)\n",
       "    ground_truth: fiftyone.core.fields.EmbeddedDocumentField(fiftyone.core.labels.Detections)\n",
       "View stages:\n",
       "    1. Select(sample_ids=['62c407947f3a365249447d63', '62c407947f3a365249447d64', '62c407947f3a365249447d7c', ...], ordered=False)"
      ]
     },
     "execution_count": 35,
     "metadata": {},
     "output_type": "execute_result"
    }
   ],
   "source": [
    "view"
   ]
  },
  {
   "cell_type": "code",
   "execution_count": 6,
   "id": "d1e8dcd2",
   "metadata": {},
   "outputs": [],
   "source": [
    "# A unique identifer for this run\n",
    "anno_key = \"Task_4c\"\n",
    "# Upload the samples and launch CVAT"
   ]
  },
  {
   "cell_type": "code",
   "execution_count": 8,
   "id": "c2a22ef6",
   "metadata": {},
   "outputs": [
    {
     "name": "stdout",
     "output_type": "stream",
     "text": [
      "Found existing field 'ground_truth' with multiple types ['detections', 'instances']. Only the 'detections' will be annotated\n",
      "Please enter your login credentials.\n",
      "You can avoid this in the future by setting your `FIFTYONE_CVAT_USERNAME` and `FIFTYONE_CVAT_PASSWORD` environment variables\n",
      "Username: faizanaw\n",
      "Password: ········\n",
      "Uploading samples to CVAT...\n",
      "Please enter your login credentials.\n",
      "You can avoid this in the future by setting your `FIFTYONE_CVAT_USERNAME` and `FIFTYONE_CVAT_PASSWORD` environment variables\n",
      "Username: faizanaw\n",
      "Password: ········\n",
      "Launching editor at 'http://localhost:8080/tasks/12/jobs/12'...\n"
     ]
    }
   ],
   "source": [
    "anno_results = dataset.annotate(\n",
    "    anno_key,\n",
    "    label_field=\"ground_truth\",\n",
    "    attributes=[\"iscrowd\"],\n",
    "    backend=\"cvat\",\n",
    "    url=\"http://localhost:8080\",\n",
    "    launch_editor=True)"
   ]
  },
  {
   "cell_type": "code",
   "execution_count": 11,
   "id": "595400d3",
   "metadata": {},
   "outputs": [
    {
     "name": "stdout",
     "output_type": "stream",
     "text": [
      "Found existing field 'ground_truth' with multiple types ['detections', 'instances']. Only the 'detections' will be annotated\n",
      "Please enter your login credentials.\n",
      "You can avoid this in the future by setting your `FIFTYONE_CVAT_USERNAME` and `FIFTYONE_CVAT_PASSWORD` environment variables\n",
      "Username: faizanaw\n",
      "Password: ········\n",
      "Uploading samples to CVAT...\n",
      "Please enter your login credentials.\n",
      "You can avoid this in the future by setting your `FIFTYONE_CVAT_USERNAME` and `FIFTYONE_CVAT_PASSWORD` environment variables\n",
      "Username: faizanaw\n",
      "Password: ········\n",
      "Launching editor at 'http://localhost:8080/tasks/10/jobs/10'...\n"
     ]
    }
   ],
   "source": [
    "anno_results = dataset.annotate(\n",
    "    \"wp2_a\",\n",
    "    label_field=\"ground_truth\",\n",
    "    attributes=[\"iscrowd\"],\n",
    "    backend=\"cvat\",\n",
    "    url=\"http://localhost:8080\",\n",
    "    launch_editor=True)"
   ]
  },
  {
   "cell_type": "code",
   "execution_count": 9,
   "id": "506ee41d",
   "metadata": {},
   "outputs": [
    {
     "data": {
      "text/plain": [
       "Name:        WP4c\n",
       "Media type:  image\n",
       "Num samples: 1040\n",
       "Persistent:  False\n",
       "Tags:        []\n",
       "Sample fields:\n",
       "    id:           fiftyone.core.fields.ObjectIdField\n",
       "    filepath:     fiftyone.core.fields.StringField\n",
       "    tags:         fiftyone.core.fields.ListField(fiftyone.core.fields.StringField)\n",
       "    metadata:     fiftyone.core.fields.EmbeddedDocumentField(fiftyone.core.metadata.ImageMetadata)\n",
       "    ground_truth: fiftyone.core.fields.EmbeddedDocumentField(fiftyone.core.labels.Detections)"
      ]
     },
     "execution_count": 9,
     "metadata": {},
     "output_type": "execute_result"
    }
   ],
   "source": [
    "dataset"
   ]
  },
  {
   "cell_type": "code",
   "execution_count": 7,
   "id": "7bd1b747",
   "metadata": {},
   "outputs": [
    {
     "name": "stdout",
     "output_type": "stream",
     "text": [
      "Please enter your login credentials.\n",
      "You can avoid this in the future by setting your `FIFTYONE_CVAT_USERNAME` and `FIFTYONE_CVAT_PASSWORD` environment variables\n",
      "Username: faizanaw\n",
      "Password: ········\n",
      "Downloading labels from CVAT...\n",
      "Download complete\n",
      "Loading labels for field 'ground_truth'...\n",
      " 100% |█████████████████| 995/995 [2.7s elapsed, 0s remaining, 373.3 samples/s]      \n"
     ]
    }
   ],
   "source": [
    "dataset.load_annotations(anno_key,\n",
    "    url=\"http://localhost:8080\")"
   ]
  },
  {
   "cell_type": "code",
   "execution_count": 27,
   "id": "6a29471c",
   "metadata": {},
   "outputs": [
    {
     "name": "stdout",
     "output_type": "stream",
     "text": [
      "Please enter your login credentials.\n",
      "You can avoid this in the future by setting your `FIFTYONE_CVAT_USERNAME` and `FIFTYONE_CVAT_PASSWORD` environment variables\n",
      "Username: faizanaw\n",
      "Password: ········\n",
      "Downloading labels from CVAT...\n",
      "Download complete\n",
      "Loading labels for field 'ground_truth'...\n",
      " 100% |███████████████| 2765/2765 [6.0s elapsed, 0s remaining, 597.2 samples/s]      \n"
     ]
    }
   ],
   "source": [
    "dataset.load_annotations(anno_key,\n",
    "    url=\"http://localhost:8080\")"
   ]
  },
  {
   "cell_type": "code",
   "execution_count": 30,
   "id": "d63b3099",
   "metadata": {},
   "outputs": [],
   "source": [
    "anno_key = \"my_run_final_4\""
   ]
  },
  {
   "cell_type": "code",
   "execution_count": 31,
   "id": "3a437880",
   "metadata": {},
   "outputs": [
    {
     "name": "stdout",
     "output_type": "stream",
     "text": [
      "Found existing field 'ground_truth' with multiple types ['detections', 'instances']. Only the 'detections' will be annotated\n",
      "Please enter your login credentials.\n",
      "You can avoid this in the future by setting your `FIFTYONE_CVAT_USERNAME` and `FIFTYONE_CVAT_PASSWORD` environment variables\n",
      "Username: faizanaw\n",
      "Password: ········\n",
      "Uploading samples to CVAT...\n",
      "Please enter your login credentials.\n",
      "You can avoid this in the future by setting your `FIFTYONE_CVAT_USERNAME` and `FIFTYONE_CVAT_PASSWORD` environment variables\n",
      "Username: faizanaw\n",
      "Password: ········\n",
      "Launching editor at 'http://localhost:8080/tasks/3/jobs/3'...\n"
     ]
    }
   ],
   "source": [
    "anno_results = view.annotate(\n",
    "    anno_key,\n",
    "    label_field=\"ground_truth\",\n",
    "    attributes=[\"iscrowd\"],\n",
    "    backend=\"cvat\",\n",
    "    url=\"http://localhost:8080\",\n",
    "    launch_editor=True)"
   ]
  },
  {
   "cell_type": "code",
   "execution_count": 39,
   "id": "0343ba82",
   "metadata": {},
   "outputs": [
    {
     "name": "stdout",
     "output_type": "stream",
     "text": [
      "Please enter your login credentials.\n",
      "You can avoid this in the future by setting your `FIFTYONE_CVAT_USERNAME` and `FIFTYONE_CVAT_PASSWORD` environment variables\n",
      "Username: faizanaw\n",
      "Password: ········\n",
      "Downloading labels from CVAT...\n",
      "Download complete\n",
      "Loading labels for field 'ground_truth'...\n",
      " 100% |███████████████| 4366/4366 [15.3s elapsed, 0s remaining, 327.7 samples/s]      \n"
     ]
    }
   ],
   "source": [
    "dataset.load_annotations(\"run_2\",\n",
    "    url=\"http://localhost:8080\")"
   ]
  },
  {
   "cell_type": "code",
   "execution_count": 36,
   "id": "06b1d1df",
   "metadata": {},
   "outputs": [],
   "source": [
    "anno_key = \"my_run_final_5\""
   ]
  },
  {
   "cell_type": "code",
   "execution_count": 37,
   "id": "2e36bad6",
   "metadata": {},
   "outputs": [
    {
     "name": "stdout",
     "output_type": "stream",
     "text": [
      "Found existing field 'ground_truth' with multiple types ['detections', 'instances']. Only the 'detections' will be annotated\n",
      "Please enter your login credentials.\n",
      "You can avoid this in the future by setting your `FIFTYONE_CVAT_USERNAME` and `FIFTYONE_CVAT_PASSWORD` environment variables\n",
      "Username: faizanaw\n",
      "Password: ········\n",
      "Uploading samples to CVAT...\n",
      "Please enter your login credentials.\n",
      "You can avoid this in the future by setting your `FIFTYONE_CVAT_USERNAME` and `FIFTYONE_CVAT_PASSWORD` environment variables\n",
      "Username: faizanaw\n",
      "Password: ········\n",
      "Launching editor at 'http://localhost:8080/tasks/4/jobs/4'...\n"
     ]
    }
   ],
   "source": [
    "anno_results = view.annotate(\n",
    "    anno_key,\n",
    "    label_field=\"ground_truth\",\n",
    "    attributes=[\"iscrowd\"],\n",
    "    backend=\"cvat\",\n",
    "    url=\"http://localhost:8080\",\n",
    "    launch_editor=True)"
   ]
  },
  {
   "cell_type": "code",
   "execution_count": 38,
   "id": "a36fb9ed",
   "metadata": {},
   "outputs": [
    {
     "ename": "NameError",
     "evalue": "name 'anno_key' is not defined",
     "output_type": "error",
     "traceback": [
      "\u001b[1;31m---------------------------------------------------------------------------\u001b[0m",
      "\u001b[1;31mNameError\u001b[0m                                 Traceback (most recent call last)",
      "Input \u001b[1;32mIn [38]\u001b[0m, in \u001b[0;36m<cell line: 1>\u001b[1;34m()\u001b[0m\n\u001b[1;32m----> 1\u001b[0m dataset\u001b[38;5;241m.\u001b[39mload_annotations(\u001b[43manno_key\u001b[49m,\n\u001b[0;32m      2\u001b[0m     url\u001b[38;5;241m=\u001b[39m\u001b[38;5;124m\"\u001b[39m\u001b[38;5;124mhttp://localhost:8080\u001b[39m\u001b[38;5;124m\"\u001b[39m)\n",
      "\u001b[1;31mNameError\u001b[0m: name 'anno_key' is not defined"
     ]
    }
   ],
   "source": [
    "dataset.load_annotations(anno_key,\n",
    "    url=\"http://localhost:8080\")"
   ]
  },
  {
   "cell_type": "code",
   "execution_count": 40,
   "id": "8021b167",
   "metadata": {},
   "outputs": [
    {
     "name": "stdout",
     "output_type": "stream",
     "text": [
      " 100% |███████████████| 4512/4512 [3.4s elapsed, 0s remaining, 1.6K samples/s]       \n"
     ]
    }
   ],
   "source": [
    "dataset.export(\n",
    "    dataset_type=fo.types.COCODetectionDataset,\n",
    "    labels_path=\"Anotated/annot_4c.json\",\n",
    "    label_field=\"ground_truth\")"
   ]
  },
  {
   "cell_type": "code",
   "execution_count": 50,
   "id": "70c44652",
   "metadata": {},
   "outputs": [],
   "source": [
    "# The directory to which to write the exported dataset\n",
    "export_dir = r\"C:/Users/faiza/Documents/Annot/NEW_F\"\n",
    "\n",
    "# The name of the sample field containing the label that you wish to export\n",
    "# Used when exporting labeled datasets (e.g., classification or detection)\n",
    "label_field = \"ground_truth\"  # for example\n",
    "\n",
    "# The type of dataset to export\n",
    "# Any subclass of `fiftyone.types.Dataset` is supported\n",
    "dataset_type = fo.types.COCODetectionDataset"
   ]
  },
  {
   "cell_type": "code",
   "execution_count": 51,
   "id": "c6b1d6ef",
   "metadata": {},
   "outputs": [
    {
     "name": "stdout",
     "output_type": "stream",
     "text": [
      "Directory 'C:/Users/faiza/Documents/Annot/NEW_F' already exists; export will be merged with existing files\n",
      " 100% |███████████████| 4512/4512 [13.2s elapsed, 0s remaining, 392.3 samples/s]      \n"
     ]
    }
   ],
   "source": [
    "dataset.export(\n",
    "    export_dir=export_dir,\n",
    "    dataset_type=dataset_type,\n",
    "    label_field=label_field,\n",
    ")"
   ]
  },
  {
   "cell_type": "code",
   "execution_count": 8,
   "id": "f43c6906",
   "metadata": {},
   "outputs": [
    {
     "name": "stdout",
     "output_type": "stream",
     "text": [
      " 100% |███████████████| 1040/1040 [886.1ms elapsed, 0s remaining, 1.2K samples/s]      \n"
     ]
    }
   ],
   "source": [
    "dataset.export(\n",
    "    dataset_type=fo.types.COCODetectionDataset,\n",
    "    labels_path=r\"C:/Users/faiza/Documents/Annot/Annotated/annot_4c.json\",\n",
    "    label_field=\"ground_truth\"\n",
    ")"
   ]
  },
  {
   "cell_type": "code",
   "execution_count": null,
   "id": "19957faf",
   "metadata": {},
   "outputs": [],
   "source": []
  }
 ],
 "metadata": {
  "kernelspec": {
   "display_name": "venv",
   "language": "python",
   "name": "venv"
  },
  "language_info": {
   "codemirror_mode": {
    "name": "ipython",
    "version": 3
   },
   "file_extension": ".py",
   "mimetype": "text/x-python",
   "name": "python",
   "nbconvert_exporter": "python",
   "pygments_lexer": "ipython3",
   "version": "3.8.1"
  }
 },
 "nbformat": 4,
 "nbformat_minor": 5
}
